{
 "cells": [
  {
   "cell_type": "markdown",
   "metadata": {
    "collapsed": true,
    "deletable": true,
    "editable": true
   },
   "source": [
    "<div><img src=\"http://www.stevinsonauto.net/assets/Icon_Brake.png\", width=270, height=270, align = 'right'> \n",
    "\n",
    "<img src=\"https://upload.wikimedia.org/wikipedia/commons/thumb/5/51/IBM_logo.svg/640px-IBM_logo.svg.png\", width = 90, height = 90, align = 'right', style=\"margin:0px 25px\"></div>\n",
    "\n",
    "# Classifying Driver Type with Brake Events\n",
    "##### By Rafi Kurlansik and Ross Lewis\n",
    "\n",
    "________________________________\n",
    "\n",
    "**Table of contents**\n",
    "    \n",
    "* [Problem Statement](#problemStatement)\n",
    "    \n",
    "* [Exploratory Data Analysis](#eda)\n",
    "\n",
    "* [Modeling](#ml)\n",
    "    \n",
    "* [Data and Model Export](#export)\n",
    "\n",
    "* [Conclusion](#conclusion)\n",
    "\n",
    "______________________\n",
    "\n",
    "<a id='problemStatement'></a>\n",
    "\n",
    "### Problem Statement\n",
    "\n",
    "The service bays at dealerships have seen an increase in warranty claims related to brakes.  Using historical telematics data of known driver types, can we classify the driving style of customers making warranty claims?\n",
    "\n",
    "________\n",
    "<a id='eda'></a>\n",
    "\n",
    "### Exploratory Data Analysis"
   ]
  },
  {
   "cell_type": "code",
   "execution_count": null,
   "metadata": {
    "collapsed": false,
    "deletable": true,
    "editable": true
   },
   "outputs": [],
   "source": [
    "# Add data asset from file system\n",
    "brakeEventDF <- read.csv('../datasets/historical_brake_events.csv')\n",
    "head(brakeEventDF)"
   ]
  },
  {
   "cell_type": "markdown",
   "metadata": {
    "collapsed": true,
    "deletable": true,
    "editable": true
   },
   "source": [
    "We see VINs, the type or classification of the brake event, and then a series of columns related to the brake event itself.  \n",
    "\n",
    "#### Summary Statistics\n",
    "\n",
    "Let's begin exploring the data by looking at some summary statistics of these events by both type and road type."
   ]
  },
  {
   "cell_type": "code",
   "execution_count": null,
   "metadata": {
    "collapsed": false,
    "deletable": true,
    "editable": true
   },
   "outputs": [],
   "source": [
    "library(magrittr)\n",
    "library(dplyr)"
   ]
  },
  {
   "cell_type": "code",
   "execution_count": null,
   "metadata": {
    "collapsed": false,
    "deletable": true,
    "editable": true
   },
   "outputs": [],
   "source": [
    "print(\"Summary Statistics by Event Type\")\n",
    "group_by(brakeEventDF, type) %>% summarise(avg_braketime = mean(brake_time_sec), avg_brakedistance = mean(brake_distance_ft), avg_brakescore = mean(braking_score), abs_events = sum(abs_event))\n",
    "\n",
    "print(\"Summary Statistics by Event Type and Road Type\")\n",
    "aggDF <- group_by(brakeEventDF, type, road_type) %>% summarise(avg_braketime = mean(brake_time_sec), avg_brakedistance = mean(brake_distance_ft), avg_brakescore = mean(braking_score), abs_events = sum(abs_event))\n",
    "\n",
    "aggDF"
   ]
  },
  {
   "cell_type": "markdown",
   "metadata": {
    "deletable": true,
    "editable": true
   },
   "source": [
    "Looks like aggressive drivers have lower brake times, distances, and scores.  Distracted drivers have more ABS events.  Quality drivers are on the other side of the spectrum.  \n",
    "\n",
    "#### Visualization\n",
    "\n",
    "We can see these relationships visually using the open source R package, ggplot2.  Let's examine the following three relationships:\n",
    "\n",
    "* Brake Time by Type\n",
    "* Brake Distance by Braking Score\n",
    "* ABS Events by Type and Road Type"
   ]
  },
  {
   "cell_type": "code",
   "execution_count": null,
   "metadata": {
    "collapsed": false,
    "deletable": true,
    "editable": true
   },
   "outputs": [],
   "source": [
    "library(ggplot2)"
   ]
  },
  {
   "cell_type": "code",
   "execution_count": null,
   "metadata": {
    "collapsed": false,
    "deletable": true,
    "editable": true
   },
   "outputs": [],
   "source": [
    "options(repr.plot.width = 12, repr.plot.height = 3)\n",
    "\n",
    "ggplot(brakeEventDF, aes(x = brake_time_sec, color = type, fill = type)) + \n",
    "    geom_density(alpha = 0.5) +\n",
    "    labs(x = \"Braking Time (seconds)\", y = \"Observation Density\", title = \"Distribution of Brake Time by Type\") +\n",
    "    theme_minimal()\n",
    "\n",
    "ggplot(sample_frac(brakeEventDF, .33), aes(x = brake_distance_ft, y = braking_score)) + \n",
    "    geom_point(aes(shape = road_type, color = type), size = 2) +\n",
    "    scale_shape_manual(values=c(3, 5, 8)) +\n",
    "    geom_point(color = 'black', size = 0.35, aes(shape = road_type)) +\n",
    "    labs(x = \"Braking Distance (feet)\", y = \"Braking Score\", title = \"Braking Score by Distance (ft)\") +\n",
    "    theme_minimal()\n",
    "\n",
    "ggplot(aggDF, aes(x = road_type, y = abs_events)) + \n",
    "    geom_bar(aes(fill = type), stat = 'identity') + \n",
    "    coord_flip() +\n",
    "    labs(x = \"# of ABS Events\", y = \"Road Type\", title = \"ABS Events by Road Type and Event Type\") +\n",
    "    theme_minimal()"
   ]
  },
  {
   "cell_type": "markdown",
   "metadata": {
    "deletable": true,
    "editable": true
   },
   "source": [
    "After visually inspecting the data, we see some clear grouping along the lines of event type, road type, and number of ABS events.  There is also an obvious linear relationship between brake score and brake time.  This historical data is clean enough to build a model from.\n",
    "\n",
    "__________\n",
    "\n",
    "<a id='ml'></a>\n",
    "\n",
    "\n",
    "### Modeling\n",
    "\n",
    "We can train a decision tree model on the historical brake event data.  It will learn the relationship between the various quantitative variables and the type of brake event, allowing us to classify new records as they come in.  In this case, we will be checking the behavior of drivers making warranty claims."
   ]
  },
  {
   "cell_type": "code",
   "execution_count": null,
   "metadata": {
    "collapsed": false,
    "deletable": true,
    "editable": true
   },
   "outputs": [],
   "source": [
    "library(caTools)\n",
    "library(randomForest)"
   ]
  },
  {
   "cell_type": "markdown",
   "metadata": {
    "deletable": true,
    "editable": true
   },
   "source": [
    "#### Split data into train and test sets"
   ]
  },
  {
   "cell_type": "code",
   "execution_count": null,
   "metadata": {
    "collapsed": false,
    "deletable": true,
    "editable": true
   },
   "outputs": [],
   "source": [
    "## set the seed to make your partition reproductible\n",
    "set.seed(22)\n",
    "\n",
    "## Get row names for random sample of 70% of data\n",
    "trainingRows <- row.names(brakeEventDF) %in% row.names(sample_frac(brakeEventDF, 0.7)) \n",
    "\n",
    "## Convert character columns to factor\n",
    "brakeEventDF$type <- as.factor(brakeEventDF$type)\n",
    "brakeEventDF$road_type <- as.factor(brakeEventDF$road_type\n",
    "                                   )\n",
    "## Split into train/test dataframes\n",
    "trainingDF <- brakeEventDF[trainingRows, ]\n",
    "testingDF <- brakeEventDF[!trainingRows, ]\n",
    "\n",
    "## Check dimensions, should add up to 2100\n",
    "paste(\"Rows in training set: \", dim(trainingDF)[1])\n",
    "paste(\"Rows in test set: \", dim(testingDF)[1])"
   ]
  },
  {
   "cell_type": "markdown",
   "metadata": {
    "deletable": true,
    "editable": true
   },
   "source": [
    "#### Select features, train model, evaluate accuracy"
   ]
  },
  {
   "cell_type": "code",
   "execution_count": null,
   "metadata": {
    "collapsed": false,
    "deletable": true,
    "editable": true
   },
   "outputs": [],
   "source": [
    "## Preserve VINs to add on after modeling\n",
    "vins <- trainingDF$VIN\n",
    "\n",
    "## Select columns for modeling\n",
    "trainingDF <- select(trainingDF, type, brake_time_sec, brake_distance_ft, road_type, braking_score, \n",
    "                 brake_pressure20pct, brake_pressure40pct, brake_pressure60pct,\n",
    "                 brake_pressure80pct, brake_pressure100pct, abs_event, travel_speed)\n",
    "\n",
    "brakeEventModel <- randomForest(type ~ ., \n",
    "                                data = trainingDF,\n",
    "                                ntree = 500,\n",
    "                                proximity = TRUE)\n",
    "\n",
    "## Load test set\n",
    "testingDF <- read.csv('../datasets/testdata.csv')\n",
    "\n",
    "print(\"Confusion Matrix for Testing Data:\")\n",
    "table(predict(brakeEventModel, select(testingDF, -VIN, -type)), testingDF$type)"
   ]
  },
  {
   "cell_type": "markdown",
   "metadata": {
    "collapsed": true,
    "deletable": true,
    "editable": true
   },
   "source": [
    "The accuracy on this model is strong enough to give us some confidence in using it on new data.  \n",
    "\n",
    "_________\n",
    "\n",
    "<a id='export'></a>\n",
    "\n",
    "### Model Export\n",
    "\n",
    "Save model in the DSX Local RStudio directory for use in our Shiny app."
   ]
  },
  {
   "cell_type": "code",
   "execution_count": null,
   "metadata": {
    "collapsed": false,
    "deletable": true,
    "editable": true
   },
   "outputs": [],
   "source": [
    "saveRDS(object = brakeEventModel, file = \"../rstudio/demoBrakeEvents/brakeEventModel.rds\")"
   ]
  },
  {
   "cell_type": "markdown",
   "metadata": {
    "deletable": true,
    "editable": true
   },
   "source": [
    "Verify that the model has been saved. "
   ]
  },
  {
   "cell_type": "code",
   "execution_count": null,
   "metadata": {
    "collapsed": false,
    "deletable": true,
    "editable": true
   },
   "outputs": [],
   "source": [
    "print(system(\"pwd\", intern = TRUE))\n",
    "print(system(\"ls -l ../rstudio/demoBrakeEvents\", intern = TRUE))"
   ]
  },
  {
   "cell_type": "markdown",
   "metadata": {
    "deletable": true,
    "editable": true
   },
   "source": [
    "The model has successfully been saved to File System. \n",
    "\n",
    "________\n",
    "\n",
    "### Conclusion\n",
    "\n",
    "In this notebook we have quickly explored and visualized brake event data using R.  We've also built, tested, and exported a decision tree model that can be embedded in applications or used to create reports.  To see the Shiny app where this model is used on customers coming into the service bay, click on 'Tools --> RStudio' in the menu bar above.\n",
    "\n",
    "_______\n",
    "\n",
    "\n",
    "<div><br><img src=\"https://upload.wikimedia.org/wikipedia/commons/thumb/5/51/IBM_logo.svg/640px-IBM_logo.svg.png\" width = 200 height = 200>\n",
    "</div><br>"
   ]
  }
 ],
 "metadata": {
  "kernelspec": {
   "display_name": "R",
   "language": "R",
   "name": "ir"
  },
  "language_info": {
   "codemirror_mode": "r",
   "file_extension": ".r",
   "mimetype": "text/x-r-source",
   "name": "R",
   "pygments_lexer": "r",
   "version": "3.4.1"
  }
 },
 "nbformat": 4,
 "nbformat_minor": 1
}
